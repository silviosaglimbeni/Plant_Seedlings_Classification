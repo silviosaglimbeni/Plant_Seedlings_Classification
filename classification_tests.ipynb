{
 "cells": [
  {
   "cell_type": "code",
   "execution_count": 1,
   "metadata": {},
   "outputs": [],
   "source": [
    "import tensorflow as tf"
   ]
  },
  {
   "cell_type": "code",
   "execution_count": 3,
   "metadata": {},
   "outputs": [],
   "source": [
    "from glob import glob"
   ]
  },
  {
   "cell_type": "code",
   "execution_count": null,
   "metadata": {},
   "outputs": [],
   "source": [
    "train_data = \"./train/\"\n",
    "test_data = \"./test/\""
   ]
  },
  {
   "cell_type": "code",
   "execution_count": 8,
   "metadata": {},
   "outputs": [
    {
     "data": {
      "text/plain": [
       "['train\\\\Black-grass',\n",
       " 'train\\\\Charlock',\n",
       " 'train\\\\Cleavers',\n",
       " 'train\\\\Common Chickweed',\n",
       " 'train\\\\Common wheat',\n",
       " 'train\\\\Fat Hen',\n",
       " 'train\\\\Loose Silky-bent',\n",
       " 'train\\\\Maize',\n",
       " 'train\\\\Scentless Mayweed',\n",
       " 'train\\\\Shepherds Purse',\n",
       " 'train\\\\Small-flowered Cranesbill',\n",
       " 'train\\\\Sugar beet']"
      ]
     },
     "execution_count": 8,
     "metadata": {},
     "output_type": "execute_result"
    }
   ],
   "source": [
    "glob(\"train/*\")"
   ]
  },
  {
   "cell_type": "code",
   "execution_count": null,
   "metadata": {},
   "outputs": [],
   "source": []
  }
 ],
 "metadata": {
  "kernelspec": {
   "display_name": "Python 3",
   "language": "python",
   "name": "python3"
  },
  "language_info": {
   "codemirror_mode": {
    "name": "ipython",
    "version": 3
   },
   "file_extension": ".py",
   "mimetype": "text/x-python",
   "name": "python",
   "nbconvert_exporter": "python",
   "pygments_lexer": "ipython3",
   "version": "3.6.5"
  }
 },
 "nbformat": 4,
 "nbformat_minor": 2
}
